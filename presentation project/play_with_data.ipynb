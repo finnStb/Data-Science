{
 "cells": [
  {
   "cell_type": "code",
   "execution_count": 5,
   "id": "initial_id",
   "metadata": {
    "collapsed": true,
    "ExecuteTime": {
     "end_time": "2024-06-25T09:45:48.905326Z",
     "start_time": "2024-06-25T09:45:48.239293Z"
    }
   },
   "outputs": [
    {
     "name": "stdout",
     "output_type": "stream",
     "text": [
      "        id                                              NAME      host id  \\\n",
      "0  1001254                Clean & quiet apt home by the park  80014485718   \n",
      "1  1002102                             Skylit Midtown Castle  52335172823   \n",
      "2  1002403               THE VILLAGE OF HARLEM....NEW YORK !  78829239556   \n",
      "3  1002755                                               NaN  85098326012   \n",
      "4  1003689  Entire Apt: Spacious Studio/Loft by central park  92037596077   \n",
      "\n",
      "  host_identity_verified host name neighbourhood group neighbourhood  \\\n",
      "0            unconfirmed  Madaline            Brooklyn    Kensington   \n",
      "1               verified     Jenna           Manhattan       Midtown   \n",
      "2                    NaN     Elise           Manhattan        Harlem   \n",
      "3            unconfirmed     Garry            Brooklyn  Clinton Hill   \n",
      "4               verified    Lyndon           Manhattan   East Harlem   \n",
      "\n",
      "        lat      long        country  ... service fee minimum nights  \\\n",
      "0  40.64749 -73.97237  United States  ...       $193            10.0   \n",
      "1  40.75362 -73.98377  United States  ...        $28            30.0   \n",
      "2  40.80902 -73.94190  United States  ...       $124             3.0   \n",
      "3  40.68514 -73.95976  United States  ...        $74            30.0   \n",
      "4  40.79851 -73.94399  United States  ...        $41            10.0   \n",
      "\n",
      "  number of reviews last review  reviews per month review rate number  \\\n",
      "0               9.0  10/19/2021               0.21                4.0   \n",
      "1              45.0   5/21/2022               0.38                4.0   \n",
      "2               0.0         NaN                NaN                5.0   \n",
      "3             270.0    7/5/2019               4.64                4.0   \n",
      "4               9.0  11/19/2018               0.10                3.0   \n",
      "\n",
      "  calculated host listings count  availability 365  \\\n",
      "0                            6.0             286.0   \n",
      "1                            2.0             228.0   \n",
      "2                            1.0             352.0   \n",
      "3                            1.0             322.0   \n",
      "4                            1.0             289.0   \n",
      "\n",
      "                                         house_rules license  \n",
      "0  Clean up and treat the home the way you'd like...     NaN  \n",
      "1  Pet friendly but please confirm with me if the...     NaN  \n",
      "2  I encourage you to use my kitchen, cooking and...     NaN  \n",
      "3                                                NaN     NaN  \n",
      "4  Please no smoking in the house, porch or on th...     NaN  \n",
      "\n",
      "[5 rows x 26 columns]\n"
     ]
    },
    {
     "name": "stderr",
     "output_type": "stream",
     "text": [
      "C:\\Users\\finns\\AppData\\Local\\Temp\\ipykernel_10772\\3239684998.py:4: DtypeWarning: Columns (25) have mixed types. Specify dtype option on import or set low_memory=False.\n",
      "  df = pd.read_csv(\"data/Airbnb_Open_Data.csv\")\n"
     ]
    }
   ],
   "source": [
    "import pandas as pd\n",
    "\n",
    "# read csv file \"data/Airbnb_Open_Data.csv\"\n",
    "df = pd.read_csv(\"data/Airbnb_Open_Data.csv\")\n",
    "\n",
    "# check out the first 5 rows of the data\n",
    "print(df.head())"
   ]
  },
  {
   "cell_type": "code",
   "outputs": [
    {
     "data": {
      "text/plain": "                 id       host id            lat           long  \\\ncount  1.025990e+05  1.025990e+05  102591.000000  102591.000000   \nmean   2.914623e+07  4.925411e+10      40.728094     -73.949644   \nstd    1.625751e+07  2.853900e+10       0.055857       0.049521   \nmin    1.001254e+06  1.236005e+08      40.499790     -74.249840   \n25%    1.508581e+07  2.458333e+10      40.688740     -73.982580   \n50%    2.913660e+07  4.911774e+10      40.722290     -73.954440   \n75%    4.320120e+07  7.399650e+10      40.762760     -73.932350   \nmax    5.736742e+07  9.876313e+10      40.916970     -73.705220   \n\n       Construction year  minimum nights  number of reviews  \\\ncount      102385.000000   102190.000000      102416.000000   \nmean         2012.487464        8.135845          27.483743   \nstd             5.765556       30.553781          49.508954   \nmin          2003.000000    -1223.000000           0.000000   \n25%          2007.000000        2.000000           1.000000   \n50%          2012.000000        3.000000           7.000000   \n75%          2017.000000        5.000000          30.000000   \nmax          2022.000000     5645.000000        1024.000000   \n\n       reviews per month  review rate number  calculated host listings count  \\\ncount       86720.000000       102273.000000                   102280.000000   \nmean            1.374022            3.279106                        7.936605   \nstd             1.746621            1.284657                       32.218780   \nmin             0.010000            1.000000                        1.000000   \n25%             0.220000            2.000000                        1.000000   \n50%             0.740000            3.000000                        1.000000   \n75%             2.000000            4.000000                        2.000000   \nmax            90.000000            5.000000                      332.000000   \n\n       availability 365  \ncount     102151.000000  \nmean         141.133254  \nstd          135.435024  \nmin          -10.000000  \n25%            3.000000  \n50%           96.000000  \n75%          269.000000  \nmax         3677.000000  ",
      "text/html": "<div>\n<style scoped>\n    .dataframe tbody tr th:only-of-type {\n        vertical-align: middle;\n    }\n\n    .dataframe tbody tr th {\n        vertical-align: top;\n    }\n\n    .dataframe thead th {\n        text-align: right;\n    }\n</style>\n<table border=\"1\" class=\"dataframe\">\n  <thead>\n    <tr style=\"text-align: right;\">\n      <th></th>\n      <th>id</th>\n      <th>host id</th>\n      <th>lat</th>\n      <th>long</th>\n      <th>Construction year</th>\n      <th>minimum nights</th>\n      <th>number of reviews</th>\n      <th>reviews per month</th>\n      <th>review rate number</th>\n      <th>calculated host listings count</th>\n      <th>availability 365</th>\n    </tr>\n  </thead>\n  <tbody>\n    <tr>\n      <th>count</th>\n      <td>1.025990e+05</td>\n      <td>1.025990e+05</td>\n      <td>102591.000000</td>\n      <td>102591.000000</td>\n      <td>102385.000000</td>\n      <td>102190.000000</td>\n      <td>102416.000000</td>\n      <td>86720.000000</td>\n      <td>102273.000000</td>\n      <td>102280.000000</td>\n      <td>102151.000000</td>\n    </tr>\n    <tr>\n      <th>mean</th>\n      <td>2.914623e+07</td>\n      <td>4.925411e+10</td>\n      <td>40.728094</td>\n      <td>-73.949644</td>\n      <td>2012.487464</td>\n      <td>8.135845</td>\n      <td>27.483743</td>\n      <td>1.374022</td>\n      <td>3.279106</td>\n      <td>7.936605</td>\n      <td>141.133254</td>\n    </tr>\n    <tr>\n      <th>std</th>\n      <td>1.625751e+07</td>\n      <td>2.853900e+10</td>\n      <td>0.055857</td>\n      <td>0.049521</td>\n      <td>5.765556</td>\n      <td>30.553781</td>\n      <td>49.508954</td>\n      <td>1.746621</td>\n      <td>1.284657</td>\n      <td>32.218780</td>\n      <td>135.435024</td>\n    </tr>\n    <tr>\n      <th>min</th>\n      <td>1.001254e+06</td>\n      <td>1.236005e+08</td>\n      <td>40.499790</td>\n      <td>-74.249840</td>\n      <td>2003.000000</td>\n      <td>-1223.000000</td>\n      <td>0.000000</td>\n      <td>0.010000</td>\n      <td>1.000000</td>\n      <td>1.000000</td>\n      <td>-10.000000</td>\n    </tr>\n    <tr>\n      <th>25%</th>\n      <td>1.508581e+07</td>\n      <td>2.458333e+10</td>\n      <td>40.688740</td>\n      <td>-73.982580</td>\n      <td>2007.000000</td>\n      <td>2.000000</td>\n      <td>1.000000</td>\n      <td>0.220000</td>\n      <td>2.000000</td>\n      <td>1.000000</td>\n      <td>3.000000</td>\n    </tr>\n    <tr>\n      <th>50%</th>\n      <td>2.913660e+07</td>\n      <td>4.911774e+10</td>\n      <td>40.722290</td>\n      <td>-73.954440</td>\n      <td>2012.000000</td>\n      <td>3.000000</td>\n      <td>7.000000</td>\n      <td>0.740000</td>\n      <td>3.000000</td>\n      <td>1.000000</td>\n      <td>96.000000</td>\n    </tr>\n    <tr>\n      <th>75%</th>\n      <td>4.320120e+07</td>\n      <td>7.399650e+10</td>\n      <td>40.762760</td>\n      <td>-73.932350</td>\n      <td>2017.000000</td>\n      <td>5.000000</td>\n      <td>30.000000</td>\n      <td>2.000000</td>\n      <td>4.000000</td>\n      <td>2.000000</td>\n      <td>269.000000</td>\n    </tr>\n    <tr>\n      <th>max</th>\n      <td>5.736742e+07</td>\n      <td>9.876313e+10</td>\n      <td>40.916970</td>\n      <td>-73.705220</td>\n      <td>2022.000000</td>\n      <td>5645.000000</td>\n      <td>1024.000000</td>\n      <td>90.000000</td>\n      <td>5.000000</td>\n      <td>332.000000</td>\n      <td>3677.000000</td>\n    </tr>\n  </tbody>\n</table>\n</div>"
     },
     "execution_count": 6,
     "metadata": {},
     "output_type": "execute_result"
    }
   ],
   "source": [
    "\n",
    "df.describe()\n",
    "\n"
   ],
   "metadata": {
    "collapsed": false,
    "ExecuteTime": {
     "end_time": "2024-06-25T09:45:48.970825Z",
     "start_time": "2024-06-25T09:45:48.906330Z"
    }
   },
   "id": "7e22412d963a7d79",
   "execution_count": 6
  },
  {
   "cell_type": "code",
   "outputs": [
    {
     "name": "stdout",
     "output_type": "stream",
     "text": [
      "<class 'pandas.core.frame.DataFrame'>\n",
      "RangeIndex: 102599 entries, 0 to 102598\n",
      "Data columns (total 26 columns):\n",
      " #   Column                          Non-Null Count   Dtype  \n",
      "---  ------                          --------------   -----  \n",
      " 0   id                              102599 non-null  int64  \n",
      " 1   NAME                            102349 non-null  object \n",
      " 2   host id                         102599 non-null  int64  \n",
      " 3   host_identity_verified          102310 non-null  object \n",
      " 4   host name                       102193 non-null  object \n",
      " 5   neighbourhood group             102570 non-null  object \n",
      " 6   neighbourhood                   102583 non-null  object \n",
      " 7   lat                             102591 non-null  float64\n",
      " 8   long                            102591 non-null  float64\n",
      " 9   country                         102067 non-null  object \n",
      " 10  country code                    102468 non-null  object \n",
      " 11  instant_bookable                102494 non-null  object \n",
      " 12  cancellation_policy             102523 non-null  object \n",
      " 13  room type                       102599 non-null  object \n",
      " 14  Construction year               102385 non-null  float64\n",
      " 15  price                           102352 non-null  object \n",
      " 16  service fee                     102326 non-null  object \n",
      " 17  minimum nights                  102190 non-null  float64\n",
      " 18  number of reviews               102416 non-null  float64\n",
      " 19  last review                     86706 non-null   object \n",
      " 20  reviews per month               86720 non-null   float64\n",
      " 21  review rate number              102273 non-null  float64\n",
      " 22  calculated host listings count  102280 non-null  float64\n",
      " 23  availability 365                102151 non-null  float64\n",
      " 24  house_rules                     50468 non-null   object \n",
      " 25  license                         2 non-null       object \n",
      "dtypes: float64(9), int64(2), object(15)\n",
      "memory usage: 20.4+ MB\n"
     ]
    }
   ],
   "source": [
    "df.info()"
   ],
   "metadata": {
    "collapsed": false,
    "ExecuteTime": {
     "end_time": "2024-06-25T09:45:49.034756Z",
     "start_time": "2024-06-25T09:45:48.971872Z"
    }
   },
   "id": "8aace2fad11c536a",
   "execution_count": 7
  }
 ],
 "metadata": {
  "kernelspec": {
   "display_name": "Python 3",
   "language": "python",
   "name": "python3"
  },
  "language_info": {
   "codemirror_mode": {
    "name": "ipython",
    "version": 2
   },
   "file_extension": ".py",
   "mimetype": "text/x-python",
   "name": "python",
   "nbconvert_exporter": "python",
   "pygments_lexer": "ipython2",
   "version": "2.7.6"
  }
 },
 "nbformat": 4,
 "nbformat_minor": 5
}
