{
 "cells": [
  {
   "cell_type": "markdown",
   "source": [
    "Q2: Do the following exercise in a Jupyter Notebook (a GitHub Link would be the best): -- 12pt\n",
    "- Load the countries.csv directly via URL import into your panda data frame!\n",
    "- Display descriptive statistics for the numerical column (count, mean, std, min, 25%, 50%, 75%, max) HINT: describe\n",
    "- Show the last 4 rows of the data frame.\n",
    "- Show all the rows of countries that have the EURO\n",
    "- Show only name and Currency in a new data frame\n",
    "- Show only the rows/countries that have more than 2000 GDP (it is in Milliarden USD Bruttoinlandsprodukt)\n",
    "- Select all countries where with inhabitants between 50 and 150 Mio\n",
    "- Calculate the GDP average (ignore the missing value)\n",
    "- Calculate the GDP average (missing value treated as 0)\n",
    "- Calculate the population density (population/area)  of all countries and add as new column\n",
    "- Sort by country name alphabetically\n",
    "- Create a new data frame from the original where the area is changed: all countries with > 1000000 get BIG and <= 1000000 get SMALL in the cell replaced!\n",
    "\n",
    "Send me a PDF or a link to GitHub / GitLab, etc.\n",
    "\n",
    "The idea is: DevEnvironment + your passion!"
   ],
   "metadata": {
    "collapsed": false
   },
   "id": "8ebda10ffa6cc5"
  },
  {
   "cell_type": "code",
   "outputs": [
    {
     "data": {
      "text/plain": "        Name  Population     Area     GDP Currency\n0    Germany    82521653   357385  3466.0      EUR\n1      Japan   126045000   377835  4938.0      YEN\n2     Canada    36503097  9984670  1529.0      CAD\n3      Italy    60501718   301338  1850.0      EUR\n4   Brazilia   208360000  8515770  1798.0     REAL\n5     Taiwan    23938272    36197   744.0      NTD\n6  Venezuela    28208977   912050     NaN      VED",
      "text/html": "<div>\n<style scoped>\n    .dataframe tbody tr th:only-of-type {\n        vertical-align: middle;\n    }\n\n    .dataframe tbody tr th {\n        vertical-align: top;\n    }\n\n    .dataframe thead th {\n        text-align: right;\n    }\n</style>\n<table border=\"1\" class=\"dataframe\">\n  <thead>\n    <tr style=\"text-align: right;\">\n      <th></th>\n      <th>Name</th>\n      <th>Population</th>\n      <th>Area</th>\n      <th>GDP</th>\n      <th>Currency</th>\n    </tr>\n  </thead>\n  <tbody>\n    <tr>\n      <th>0</th>\n      <td>Germany</td>\n      <td>82521653</td>\n      <td>357385</td>\n      <td>3466.0</td>\n      <td>EUR</td>\n    </tr>\n    <tr>\n      <th>1</th>\n      <td>Japan</td>\n      <td>126045000</td>\n      <td>377835</td>\n      <td>4938.0</td>\n      <td>YEN</td>\n    </tr>\n    <tr>\n      <th>2</th>\n      <td>Canada</td>\n      <td>36503097</td>\n      <td>9984670</td>\n      <td>1529.0</td>\n      <td>CAD</td>\n    </tr>\n    <tr>\n      <th>3</th>\n      <td>Italy</td>\n      <td>60501718</td>\n      <td>301338</td>\n      <td>1850.0</td>\n      <td>EUR</td>\n    </tr>\n    <tr>\n      <th>4</th>\n      <td>Brazilia</td>\n      <td>208360000</td>\n      <td>8515770</td>\n      <td>1798.0</td>\n      <td>REAL</td>\n    </tr>\n    <tr>\n      <th>5</th>\n      <td>Taiwan</td>\n      <td>23938272</td>\n      <td>36197</td>\n      <td>744.0</td>\n      <td>NTD</td>\n    </tr>\n    <tr>\n      <th>6</th>\n      <td>Venezuela</td>\n      <td>28208977</td>\n      <td>912050</td>\n      <td>NaN</td>\n      <td>VED</td>\n    </tr>\n  </tbody>\n</table>\n</div>"
     },
     "execution_count": 41,
     "metadata": {},
     "output_type": "execute_result"
    }
   ],
   "source": [
    "import pandas as pd\n",
    "\n",
    "# URL of CSV file\n",
    "url = 'https://raw.githubusercontent.com/WHPAN0108/BHT-DataScience-S23/main/python-DS/country.csv'\n",
    "\n",
    "# load the countries.csv directly via URL import into your panda data frame\n",
    "data = pd.read_csv(url)\n",
    "\n",
    "# show the data frame\n",
    "data"
   ],
   "metadata": {
    "collapsed": false,
    "ExecuteTime": {
     "end_time": "2024-04-24T11:58:07.711302Z",
     "start_time": "2024-04-24T11:58:07.621976Z"
    }
   },
   "id": "12988e97c7df77ec",
   "execution_count": 41
  },
  {
   "cell_type": "markdown",
   "source": [
    "Display descriptive statistics for the numerical column (count, mean, std, min, 25%, 50%, 75%, max) HINT: describe"
   ],
   "metadata": {
    "collapsed": false
   },
   "id": "bbdd7c8400536572"
  },
  {
   "cell_type": "code",
   "outputs": [
    {
     "data": {
      "text/plain": "         Population          Area          GDP\ncount  7.000000e+00  7.000000e+00     6.000000\nmean   8.086839e+07  2.926464e+06  2387.500000\nstd    6.670195e+07  4.348507e+06  1532.497537\nmin    2.393827e+07  3.619700e+04   744.000000\n25%    3.235604e+07  3.293615e+05  1596.250000\n50%    6.050172e+07  3.778350e+05  1824.000000\n75%    1.042833e+08  4.713910e+06  3062.000000\nmax    2.083600e+08  9.984670e+06  4938.000000",
      "text/html": "<div>\n<style scoped>\n    .dataframe tbody tr th:only-of-type {\n        vertical-align: middle;\n    }\n\n    .dataframe tbody tr th {\n        vertical-align: top;\n    }\n\n    .dataframe thead th {\n        text-align: right;\n    }\n</style>\n<table border=\"1\" class=\"dataframe\">\n  <thead>\n    <tr style=\"text-align: right;\">\n      <th></th>\n      <th>Population</th>\n      <th>Area</th>\n      <th>GDP</th>\n    </tr>\n  </thead>\n  <tbody>\n    <tr>\n      <th>count</th>\n      <td>7.000000e+00</td>\n      <td>7.000000e+00</td>\n      <td>6.000000</td>\n    </tr>\n    <tr>\n      <th>mean</th>\n      <td>8.086839e+07</td>\n      <td>2.926464e+06</td>\n      <td>2387.500000</td>\n    </tr>\n    <tr>\n      <th>std</th>\n      <td>6.670195e+07</td>\n      <td>4.348507e+06</td>\n      <td>1532.497537</td>\n    </tr>\n    <tr>\n      <th>min</th>\n      <td>2.393827e+07</td>\n      <td>3.619700e+04</td>\n      <td>744.000000</td>\n    </tr>\n    <tr>\n      <th>25%</th>\n      <td>3.235604e+07</td>\n      <td>3.293615e+05</td>\n      <td>1596.250000</td>\n    </tr>\n    <tr>\n      <th>50%</th>\n      <td>6.050172e+07</td>\n      <td>3.778350e+05</td>\n      <td>1824.000000</td>\n    </tr>\n    <tr>\n      <th>75%</th>\n      <td>1.042833e+08</td>\n      <td>4.713910e+06</td>\n      <td>3062.000000</td>\n    </tr>\n    <tr>\n      <th>max</th>\n      <td>2.083600e+08</td>\n      <td>9.984670e+06</td>\n      <td>4938.000000</td>\n    </tr>\n  </tbody>\n</table>\n</div>"
     },
     "execution_count": 42,
     "metadata": {},
     "output_type": "execute_result"
    }
   ],
   "source": [
    "data.describe()  # pandas describe() does the job. These are all regularly used statistics."
   ],
   "metadata": {
    "collapsed": false,
    "ExecuteTime": {
     "end_time": "2024-04-24T11:58:07.949295Z",
     "start_time": "2024-04-24T11:58:07.930490Z"
    }
   },
   "id": "afa676c415a81194",
   "execution_count": 42
  },
  {
   "cell_type": "markdown",
   "source": [
    "Show the last 4 rows of the data frame."
   ],
   "metadata": {
    "collapsed": false
   },
   "id": "677d540da633df18"
  },
  {
   "cell_type": "code",
   "outputs": [
    {
     "data": {
      "text/plain": "        Name  Population     Area     GDP Currency\n3      Italy    60501718   301338  1850.0      EUR\n4   Brazilia   208360000  8515770  1798.0     REAL\n5     Taiwan    23938272    36197   744.0      NTD\n6  Venezuela    28208977   912050     NaN      VED",
      "text/html": "<div>\n<style scoped>\n    .dataframe tbody tr th:only-of-type {\n        vertical-align: middle;\n    }\n\n    .dataframe tbody tr th {\n        vertical-align: top;\n    }\n\n    .dataframe thead th {\n        text-align: right;\n    }\n</style>\n<table border=\"1\" class=\"dataframe\">\n  <thead>\n    <tr style=\"text-align: right;\">\n      <th></th>\n      <th>Name</th>\n      <th>Population</th>\n      <th>Area</th>\n      <th>GDP</th>\n      <th>Currency</th>\n    </tr>\n  </thead>\n  <tbody>\n    <tr>\n      <th>3</th>\n      <td>Italy</td>\n      <td>60501718</td>\n      <td>301338</td>\n      <td>1850.0</td>\n      <td>EUR</td>\n    </tr>\n    <tr>\n      <th>4</th>\n      <td>Brazilia</td>\n      <td>208360000</td>\n      <td>8515770</td>\n      <td>1798.0</td>\n      <td>REAL</td>\n    </tr>\n    <tr>\n      <th>5</th>\n      <td>Taiwan</td>\n      <td>23938272</td>\n      <td>36197</td>\n      <td>744.0</td>\n      <td>NTD</td>\n    </tr>\n    <tr>\n      <th>6</th>\n      <td>Venezuela</td>\n      <td>28208977</td>\n      <td>912050</td>\n      <td>NaN</td>\n      <td>VED</td>\n    </tr>\n  </tbody>\n</table>\n</div>"
     },
     "execution_count": 43,
     "metadata": {},
     "output_type": "execute_result"
    }
   ],
   "source": [
    "data.tail(4)  # pandas tail(4) shows the last 4 rows."
   ],
   "metadata": {
    "collapsed": false,
    "ExecuteTime": {
     "end_time": "2024-04-24T11:58:08.005548Z",
     "start_time": "2024-04-24T11:58:07.994330Z"
    }
   },
   "id": "27a7dcab96cbdb2",
   "execution_count": 43
  },
  {
   "cell_type": "markdown",
   "source": [
    "Show all the rows of countries that have the EURO"
   ],
   "metadata": {
    "collapsed": false
   },
   "id": "675de9a74fd76f3f"
  },
  {
   "cell_type": "code",
   "outputs": [
    {
     "data": {
      "text/plain": "      Name  Population    Area     GDP Currency\n0  Germany    82521653  357385  3466.0      EUR\n3    Italy    60501718  301338  1850.0      EUR",
      "text/html": "<div>\n<style scoped>\n    .dataframe tbody tr th:only-of-type {\n        vertical-align: middle;\n    }\n\n    .dataframe tbody tr th {\n        vertical-align: top;\n    }\n\n    .dataframe thead th {\n        text-align: right;\n    }\n</style>\n<table border=\"1\" class=\"dataframe\">\n  <thead>\n    <tr style=\"text-align: right;\">\n      <th></th>\n      <th>Name</th>\n      <th>Population</th>\n      <th>Area</th>\n      <th>GDP</th>\n      <th>Currency</th>\n    </tr>\n  </thead>\n  <tbody>\n    <tr>\n      <th>0</th>\n      <td>Germany</td>\n      <td>82521653</td>\n      <td>357385</td>\n      <td>3466.0</td>\n      <td>EUR</td>\n    </tr>\n    <tr>\n      <th>3</th>\n      <td>Italy</td>\n      <td>60501718</td>\n      <td>301338</td>\n      <td>1850.0</td>\n      <td>EUR</td>\n    </tr>\n  </tbody>\n</table>\n</div>"
     },
     "execution_count": 44,
     "metadata": {},
     "output_type": "execute_result"
    }
   ],
   "source": [
    "data[data['Currency'] == 'EUR']  # pandas data['Currency'] == 'EUR' filters the data frame."
   ],
   "metadata": {
    "collapsed": false,
    "ExecuteTime": {
     "end_time": "2024-04-24T11:58:08.177972Z",
     "start_time": "2024-04-24T11:58:08.164683Z"
    }
   },
   "id": "5db851ea80a4fdcd",
   "execution_count": 44
  },
  {
   "cell_type": "markdown",
   "source": [
    "Show only name and Currency in a new data frame"
   ],
   "metadata": {
    "collapsed": false
   },
   "id": "deecf177ff7f790b"
  },
  {
   "cell_type": "code",
   "outputs": [
    {
     "data": {
      "text/plain": "        Name Currency\n0    Germany      EUR\n1      Japan      YEN\n2     Canada      CAD\n3      Italy      EUR\n4   Brazilia     REAL\n5     Taiwan      NTD\n6  Venezuela      VED",
      "text/html": "<div>\n<style scoped>\n    .dataframe tbody tr th:only-of-type {\n        vertical-align: middle;\n    }\n\n    .dataframe tbody tr th {\n        vertical-align: top;\n    }\n\n    .dataframe thead th {\n        text-align: right;\n    }\n</style>\n<table border=\"1\" class=\"dataframe\">\n  <thead>\n    <tr style=\"text-align: right;\">\n      <th></th>\n      <th>Name</th>\n      <th>Currency</th>\n    </tr>\n  </thead>\n  <tbody>\n    <tr>\n      <th>0</th>\n      <td>Germany</td>\n      <td>EUR</td>\n    </tr>\n    <tr>\n      <th>1</th>\n      <td>Japan</td>\n      <td>YEN</td>\n    </tr>\n    <tr>\n      <th>2</th>\n      <td>Canada</td>\n      <td>CAD</td>\n    </tr>\n    <tr>\n      <th>3</th>\n      <td>Italy</td>\n      <td>EUR</td>\n    </tr>\n    <tr>\n      <th>4</th>\n      <td>Brazilia</td>\n      <td>REAL</td>\n    </tr>\n    <tr>\n      <th>5</th>\n      <td>Taiwan</td>\n      <td>NTD</td>\n    </tr>\n    <tr>\n      <th>6</th>\n      <td>Venezuela</td>\n      <td>VED</td>\n    </tr>\n  </tbody>\n</table>\n</div>"
     },
     "execution_count": 45,
     "metadata": {},
     "output_type": "execute_result"
    }
   ],
   "source": [
    "data[['Name', 'Currency']]  # pandas data[['Name', 'Currency']] selects the columns."
   ],
   "metadata": {
    "collapsed": false,
    "ExecuteTime": {
     "end_time": "2024-04-24T11:58:08.502837Z",
     "start_time": "2024-04-24T11:58:08.491250Z"
    }
   },
   "id": "821f538783fb51b8",
   "execution_count": 45
  },
  {
   "cell_type": "markdown",
   "source": [
    "Show only the rows/countries that have more than 2000 GDP (it is in Milliarden USD Bruttoinlandsprodukt)"
   ],
   "metadata": {
    "collapsed": false
   },
   "id": "62d476e59fb1ef2e"
  },
  {
   "cell_type": "code",
   "outputs": [
    {
     "data": {
      "text/plain": "      Name  Population    Area     GDP Currency\n0  Germany    82521653  357385  3466.0      EUR\n1    Japan   126045000  377835  4938.0      YEN",
      "text/html": "<div>\n<style scoped>\n    .dataframe tbody tr th:only-of-type {\n        vertical-align: middle;\n    }\n\n    .dataframe tbody tr th {\n        vertical-align: top;\n    }\n\n    .dataframe thead th {\n        text-align: right;\n    }\n</style>\n<table border=\"1\" class=\"dataframe\">\n  <thead>\n    <tr style=\"text-align: right;\">\n      <th></th>\n      <th>Name</th>\n      <th>Population</th>\n      <th>Area</th>\n      <th>GDP</th>\n      <th>Currency</th>\n    </tr>\n  </thead>\n  <tbody>\n    <tr>\n      <th>0</th>\n      <td>Germany</td>\n      <td>82521653</td>\n      <td>357385</td>\n      <td>3466.0</td>\n      <td>EUR</td>\n    </tr>\n    <tr>\n      <th>1</th>\n      <td>Japan</td>\n      <td>126045000</td>\n      <td>377835</td>\n      <td>4938.0</td>\n      <td>YEN</td>\n    </tr>\n  </tbody>\n</table>\n</div>"
     },
     "execution_count": 46,
     "metadata": {},
     "output_type": "execute_result"
    }
   ],
   "source": [
    "data[data['GDP'] > 2000]  # pandas data['GDP'] > 2000 filters the data frame."
   ],
   "metadata": {
    "collapsed": false,
    "ExecuteTime": {
     "end_time": "2024-04-24T11:58:08.974064Z",
     "start_time": "2024-04-24T11:58:08.964249Z"
    }
   },
   "id": "3b8167d8787f459e",
   "execution_count": 46
  },
  {
   "cell_type": "markdown",
   "source": [
    "Select all countries with inhabitants between 50 and 150 Mio"
   ],
   "metadata": {
    "collapsed": false
   },
   "id": "2b38af38e8122767"
  },
  {
   "cell_type": "code",
   "outputs": [
    {
     "data": {
      "text/plain": "      Name  Population    Area     GDP Currency\n0  Germany    82521653  357385  3466.0      EUR\n1    Japan   126045000  377835  4938.0      YEN\n3    Italy    60501718  301338  1850.0      EUR",
      "text/html": "<div>\n<style scoped>\n    .dataframe tbody tr th:only-of-type {\n        vertical-align: middle;\n    }\n\n    .dataframe tbody tr th {\n        vertical-align: top;\n    }\n\n    .dataframe thead th {\n        text-align: right;\n    }\n</style>\n<table border=\"1\" class=\"dataframe\">\n  <thead>\n    <tr style=\"text-align: right;\">\n      <th></th>\n      <th>Name</th>\n      <th>Population</th>\n      <th>Area</th>\n      <th>GDP</th>\n      <th>Currency</th>\n    </tr>\n  </thead>\n  <tbody>\n    <tr>\n      <th>0</th>\n      <td>Germany</td>\n      <td>82521653</td>\n      <td>357385</td>\n      <td>3466.0</td>\n      <td>EUR</td>\n    </tr>\n    <tr>\n      <th>1</th>\n      <td>Japan</td>\n      <td>126045000</td>\n      <td>377835</td>\n      <td>4938.0</td>\n      <td>YEN</td>\n    </tr>\n    <tr>\n      <th>3</th>\n      <td>Italy</td>\n      <td>60501718</td>\n      <td>301338</td>\n      <td>1850.0</td>\n      <td>EUR</td>\n    </tr>\n  </tbody>\n</table>\n</div>"
     },
     "execution_count": 47,
     "metadata": {},
     "output_type": "execute_result"
    }
   ],
   "source": [
    "data[(data['Population'] >= 50 * 10**6) & (data['Population'] <= 150 * 10**6)]  # ** is the power operator."
   ],
   "metadata": {
    "collapsed": false,
    "ExecuteTime": {
     "end_time": "2024-04-24T11:58:09.463468Z",
     "start_time": "2024-04-24T11:58:09.452494Z"
    }
   },
   "id": "e6aaa80192086c8c",
   "execution_count": 47
  },
  {
   "cell_type": "markdown",
   "source": [
    "Calculate the GDP average (ignore the missing value)"
   ],
   "metadata": {
    "collapsed": false
   },
   "id": "8b4c26d0167b9bfa"
  },
  {
   "cell_type": "code",
   "outputs": [
    {
     "data": {
      "text/plain": "2387.5"
     },
     "execution_count": 48,
     "metadata": {},
     "output_type": "execute_result"
    }
   ],
   "source": [
    "data['GDP'].mean()  # pandas mean() ignores missing values by default."
   ],
   "metadata": {
    "collapsed": false,
    "ExecuteTime": {
     "end_time": "2024-04-24T11:58:10.014075Z",
     "start_time": "2024-04-24T11:58:10.006950Z"
    }
   },
   "id": "e756c17403cda1b9",
   "execution_count": 48
  },
  {
   "cell_type": "markdown",
   "source": [
    "Calculate the GDP average (missing value treated as 0)"
   ],
   "metadata": {
    "collapsed": false
   },
   "id": "bcd63c89370de813"
  },
  {
   "cell_type": "code",
   "outputs": [
    {
     "data": {
      "text/plain": "2046.4285714285713"
     },
     "execution_count": 49,
     "metadata": {},
     "output_type": "execute_result"
    }
   ],
   "source": [
    "data['GDP'].fillna(0).mean()  # pandas fillna(0) replaces missing values with 0."
   ],
   "metadata": {
    "collapsed": false,
    "ExecuteTime": {
     "end_time": "2024-04-24T11:58:10.695632Z",
     "start_time": "2024-04-24T11:58:10.688678Z"
    }
   },
   "id": "36ab3e45b32baf1f",
   "execution_count": 49
  },
  {
   "cell_type": "markdown",
   "source": [
    "Calculate the population density (population/area) of all countries and add as new column"
   ],
   "metadata": {
    "collapsed": false
   },
   "id": "87ced446614c7b15"
  },
  {
   "cell_type": "code",
   "outputs": [],
   "source": [
    "data['Population Density'] = data['Population'] / data['Area']  # pandas allows column-wise operations."
   ],
   "metadata": {
    "collapsed": false,
    "ExecuteTime": {
     "end_time": "2024-04-24T11:58:11.219869Z",
     "start_time": "2024-04-24T11:58:11.214096Z"
    }
   },
   "id": "1b602a52a6ba0494",
   "execution_count": 50
  },
  {
   "cell_type": "markdown",
   "source": [
    "Sort by country name alphabetically"
   ],
   "metadata": {
    "collapsed": false
   },
   "id": "46c7d4d1afcffcd5"
  },
  {
   "cell_type": "code",
   "outputs": [
    {
     "data": {
      "text/plain": "        Name  Population     Area     GDP Currency  Population Density\n4   Brazilia   208360000  8515770  1798.0     REAL           24.467547\n2     Canada    36503097  9984670  1529.0      CAD            3.655914\n0    Germany    82521653   357385  3466.0      EUR          230.904075\n3      Italy    60501718   301338  1850.0      EUR          200.776928\n1      Japan   126045000   377835  4938.0      YEN          333.597999\n5     Taiwan    23938272    36197   744.0      NTD          661.333039\n6  Venezuela    28208977   912050     NaN      VED           30.929200",
      "text/html": "<div>\n<style scoped>\n    .dataframe tbody tr th:only-of-type {\n        vertical-align: middle;\n    }\n\n    .dataframe tbody tr th {\n        vertical-align: top;\n    }\n\n    .dataframe thead th {\n        text-align: right;\n    }\n</style>\n<table border=\"1\" class=\"dataframe\">\n  <thead>\n    <tr style=\"text-align: right;\">\n      <th></th>\n      <th>Name</th>\n      <th>Population</th>\n      <th>Area</th>\n      <th>GDP</th>\n      <th>Currency</th>\n      <th>Population Density</th>\n    </tr>\n  </thead>\n  <tbody>\n    <tr>\n      <th>4</th>\n      <td>Brazilia</td>\n      <td>208360000</td>\n      <td>8515770</td>\n      <td>1798.0</td>\n      <td>REAL</td>\n      <td>24.467547</td>\n    </tr>\n    <tr>\n      <th>2</th>\n      <td>Canada</td>\n      <td>36503097</td>\n      <td>9984670</td>\n      <td>1529.0</td>\n      <td>CAD</td>\n      <td>3.655914</td>\n    </tr>\n    <tr>\n      <th>0</th>\n      <td>Germany</td>\n      <td>82521653</td>\n      <td>357385</td>\n      <td>3466.0</td>\n      <td>EUR</td>\n      <td>230.904075</td>\n    </tr>\n    <tr>\n      <th>3</th>\n      <td>Italy</td>\n      <td>60501718</td>\n      <td>301338</td>\n      <td>1850.0</td>\n      <td>EUR</td>\n      <td>200.776928</td>\n    </tr>\n    <tr>\n      <th>1</th>\n      <td>Japan</td>\n      <td>126045000</td>\n      <td>377835</td>\n      <td>4938.0</td>\n      <td>YEN</td>\n      <td>333.597999</td>\n    </tr>\n    <tr>\n      <th>5</th>\n      <td>Taiwan</td>\n      <td>23938272</td>\n      <td>36197</td>\n      <td>744.0</td>\n      <td>NTD</td>\n      <td>661.333039</td>\n    </tr>\n    <tr>\n      <th>6</th>\n      <td>Venezuela</td>\n      <td>28208977</td>\n      <td>912050</td>\n      <td>NaN</td>\n      <td>VED</td>\n      <td>30.929200</td>\n    </tr>\n  </tbody>\n</table>\n</div>"
     },
     "execution_count": 51,
     "metadata": {},
     "output_type": "execute_result"
    }
   ],
   "source": [
    "data.sort_values('Name')  # pandas sort_values('Name') sorts the data frame by 'Name'."
   ],
   "metadata": {
    "collapsed": false,
    "ExecuteTime": {
     "end_time": "2024-04-24T11:58:11.469125Z",
     "start_time": "2024-04-24T11:58:11.456074Z"
    }
   },
   "id": "231af40cfc68b77d",
   "execution_count": 51
  },
  {
   "cell_type": "markdown",
   "source": [
    "Create a new data frame from the original where the area is changed: all countries with > 1000000 get BIG and <= 1000000 get SMALL in the cell replaced!"
   ],
   "metadata": {
    "collapsed": false
   },
   "id": "f1453b07edd6455"
  },
  {
   "cell_type": "code",
   "outputs": [
    {
     "data": {
      "text/plain": "        Name  Population   Area     GDP Currency  Population Density\n0    Germany    82521653  SMALL  3466.0      EUR          230.904075\n1      Japan   126045000  SMALL  4938.0      YEN          333.597999\n2     Canada    36503097    BIG  1529.0      CAD            3.655914\n3      Italy    60501718  SMALL  1850.0      EUR          200.776928\n4   Brazilia   208360000    BIG  1798.0     REAL           24.467547\n5     Taiwan    23938272  SMALL   744.0      NTD          661.333039\n6  Venezuela    28208977  SMALL     NaN      VED           30.929200",
      "text/html": "<div>\n<style scoped>\n    .dataframe tbody tr th:only-of-type {\n        vertical-align: middle;\n    }\n\n    .dataframe tbody tr th {\n        vertical-align: top;\n    }\n\n    .dataframe thead th {\n        text-align: right;\n    }\n</style>\n<table border=\"1\" class=\"dataframe\">\n  <thead>\n    <tr style=\"text-align: right;\">\n      <th></th>\n      <th>Name</th>\n      <th>Population</th>\n      <th>Area</th>\n      <th>GDP</th>\n      <th>Currency</th>\n      <th>Population Density</th>\n    </tr>\n  </thead>\n  <tbody>\n    <tr>\n      <th>0</th>\n      <td>Germany</td>\n      <td>82521653</td>\n      <td>SMALL</td>\n      <td>3466.0</td>\n      <td>EUR</td>\n      <td>230.904075</td>\n    </tr>\n    <tr>\n      <th>1</th>\n      <td>Japan</td>\n      <td>126045000</td>\n      <td>SMALL</td>\n      <td>4938.0</td>\n      <td>YEN</td>\n      <td>333.597999</td>\n    </tr>\n    <tr>\n      <th>2</th>\n      <td>Canada</td>\n      <td>36503097</td>\n      <td>BIG</td>\n      <td>1529.0</td>\n      <td>CAD</td>\n      <td>3.655914</td>\n    </tr>\n    <tr>\n      <th>3</th>\n      <td>Italy</td>\n      <td>60501718</td>\n      <td>SMALL</td>\n      <td>1850.0</td>\n      <td>EUR</td>\n      <td>200.776928</td>\n    </tr>\n    <tr>\n      <th>4</th>\n      <td>Brazilia</td>\n      <td>208360000</td>\n      <td>BIG</td>\n      <td>1798.0</td>\n      <td>REAL</td>\n      <td>24.467547</td>\n    </tr>\n    <tr>\n      <th>5</th>\n      <td>Taiwan</td>\n      <td>23938272</td>\n      <td>SMALL</td>\n      <td>744.0</td>\n      <td>NTD</td>\n      <td>661.333039</td>\n    </tr>\n    <tr>\n      <th>6</th>\n      <td>Venezuela</td>\n      <td>28208977</td>\n      <td>SMALL</td>\n      <td>NaN</td>\n      <td>VED</td>\n      <td>30.929200</td>\n    </tr>\n  </tbody>\n</table>\n</div>"
     },
     "execution_count": 52,
     "metadata": {},
     "output_type": "execute_result"
    }
   ],
   "source": [
    "def area_category(area):\n",
    "    if area > 1000000:\n",
    "        return 'BIG'\n",
    "    else:\n",
    "        return 'SMALL'\n",
    "    \n",
    "new_data = data.copy()\n",
    "new_data['Area'] = data['Area'].apply(area_category)\n",
    "new_data"
   ],
   "metadata": {
    "collapsed": false,
    "ExecuteTime": {
     "end_time": "2024-04-24T11:58:11.898509Z",
     "start_time": "2024-04-24T11:58:11.883495Z"
    }
   },
   "id": "a3186fa7483255cd",
   "execution_count": 52
  },
  {
   "cell_type": "markdown",
   "source": [],
   "metadata": {
    "collapsed": false
   },
   "id": "ed9290244e197b24"
  }
 ],
 "metadata": {
  "kernelspec": {
   "display_name": "Python 3",
   "language": "python",
   "name": "python3"
  },
  "language_info": {
   "codemirror_mode": {
    "name": "ipython",
    "version": 2
   },
   "file_extension": ".py",
   "mimetype": "text/x-python",
   "name": "python",
   "nbconvert_exporter": "python",
   "pygments_lexer": "ipython2",
   "version": "2.7.6"
  }
 },
 "nbformat": 4,
 "nbformat_minor": 5
}
